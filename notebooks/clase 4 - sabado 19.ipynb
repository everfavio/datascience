{
 "cells": [
  {
   "cell_type": "code",
   "execution_count": 1,
   "metadata": {},
   "outputs": [],
   "source": [
    "### Cálculo de la hipotenusa de un triángulo rectángulo"
   ]
  },
  {
   "cell_type": "code",
   "execution_count": 2,
   "metadata": {},
   "outputs": [],
   "source": [
    "### sabemos que a**2 = b**2 + c**2"
   ]
  },
  {
   "cell_type": "code",
   "execution_count": 3,
   "metadata": {},
   "outputs": [],
   "source": [
    "import math\n",
    "import matplotlib.pyplot as plt\n"
   ]
  },
  {
   "cell_type": "code",
   "execution_count": 4,
   "metadata": {},
   "outputs": [],
   "source": [
    "a = 109\n",
    "b = 10\n",
    "h = math.sqrt(a**2 + b**2)"
   ]
  },
  {
   "cell_type": "code",
   "execution_count": 5,
   "metadata": {},
   "outputs": [
    {
     "name": "stdout",
     "output_type": "stream",
     "text": [
      "109.45775440780794\n",
      "109.45775440780795\n"
     ]
    }
   ],
   "source": [
    "print(h)\n",
    "## tambien podemos usar el módulo de cálculo de hipotenusa\n",
    "print (math.hypot(a, b))"
   ]
  },
  {
   "cell_type": "code",
   "execution_count": 6,
   "metadata": {},
   "outputs": [],
   "source": [
    "### drawing time"
   ]
  },
  {
   "cell_type": "code",
   "execution_count": 7,
   "metadata": {},
   "outputs": [
    {
     "name": "stdout",
     "output_type": "stream",
     "text": [
      " El volumen de la unidad C no tiene etiqueta.\n",
      " El número de serie del volumen es: 0C6A-9014\n",
      "\n",
      " Directorio de C:\\Users\\jensen\\Google Drive\\maestria\\introducción a la ciencia de datos\\notebooks\n",
      "\n",
      "09/19/2020  02:40 PM    <DIR>          .\n",
      "09/19/2020  02:40 PM    <DIR>          ..\n",
      "09/19/2020  08:50 AM    <DIR>          .ipynb_checkpoints\n",
      "09/12/2020  03:01 PM            13,677 CLASE 1.ipynb\n",
      "09/19/2020  02:40 PM            10,147 clase 4 - sabado 19.ipynb\n",
      "               2 archivos         23,824 bytes\n",
      "               3 dirs  369,477,210,112 bytes libres\n"
     ]
    }
   ],
   "source": [
    "!dir"
   ]
  },
  {
   "cell_type": "code",
   "execution_count": 8,
   "metadata": {},
   "outputs": [],
   "source": [
    "def compute_reciprocals(values):\n",
    "    output = np.empty(len(values))\n",
    "    for i in range(len(values)):\n",
    "        output[i] = 1.0 / values[i]\n",
    "    return output"
   ]
  },
  {
   "cell_type": "code",
   "execution_count": 11,
   "metadata": {},
   "outputs": [
    {
     "name": "stdout",
     "output_type": "stream",
     "text": [
      "2.77 s ± 10 ms per loop (mean ± std. dev. of 7 runs, 1 loop each)\n",
      "[0.01052632 0.25       0.16666667 ... 0.01851852 0.0106383  0.01851852]\n"
     ]
    }
   ],
   "source": [
    "import numpy as np\n",
    "big_array = np.random.randint(1, 100, size=1000000)\n",
    "%timeit compute_reciprocals(big_array)\n",
    "print(1.0/big_array)"
   ]
  },
  {
   "cell_type": "code",
   "execution_count": null,
   "metadata": {},
   "outputs": [],
   "source": []
  }
 ],
 "metadata": {
  "kernelspec": {
   "display_name": "Python 3",
   "language": "python",
   "name": "python3"
  },
  "language_info": {
   "codemirror_mode": {
    "name": "ipython",
    "version": 3
   },
   "file_extension": ".py",
   "mimetype": "text/x-python",
   "name": "python",
   "nbconvert_exporter": "python",
   "pygments_lexer": "ipython3",
   "version": "3.8.3"
  }
 },
 "nbformat": 4,
 "nbformat_minor": 4
}
