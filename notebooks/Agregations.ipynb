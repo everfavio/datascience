{
 "cells": [
  {
   "cell_type": "code",
   "execution_count": 1,
   "metadata": {},
   "outputs": [],
   "source": [
    "import numpy as np"
   ]
  },
  {
   "cell_type": "code",
   "execution_count": 7,
   "metadata": {},
   "outputs": [
    {
     "name": "stdout",
     "output_type": "stream",
     "text": [
      "[9.43086247e-01 2.53302063e-01 4.09229489e-01 1.24539035e-02\n",
      " 4.17146180e-01 6.23155567e-01 8.29407128e-01 4.48052733e-01\n",
      " 6.29288052e-01 7.02520335e-01 1.47151493e-01 2.83503613e-01\n",
      " 8.21227331e-01 8.92322959e-02 5.76265354e-01 1.56522740e-01\n",
      " 5.45863791e-01 7.42899884e-01 5.67450832e-01 8.42734117e-01\n",
      " 1.09343070e-01 7.36741974e-01 1.63559270e-01 8.10271554e-01\n",
      " 7.64024187e-01 8.62910470e-01 7.49766515e-01 2.25494600e-01\n",
      " 3.24598872e-01 4.55382206e-01 3.16520676e-01 6.88280646e-01\n",
      " 8.23935566e-01 8.30683766e-01 6.76520418e-01 6.03186614e-01\n",
      " 2.35630266e-01 4.55313031e-01 5.37725041e-01 8.16107616e-01\n",
      " 2.97287787e-01 9.84615813e-01 9.12914906e-02 8.12350350e-01\n",
      " 3.99910908e-01 7.13668454e-01 5.64501878e-01 7.18129180e-01\n",
      " 5.64942315e-01 9.65093715e-01 1.76656315e-01 9.07344162e-01\n",
      " 8.23361878e-01 3.65540422e-01 3.44916907e-01 4.45559813e-01\n",
      " 1.29768723e-01 7.28329434e-01 6.16673627e-01 2.72283047e-01\n",
      " 5.68712250e-01 7.02600501e-01 4.31527287e-01 9.41539663e-01\n",
      " 9.14443865e-01 4.79903623e-01 4.09126663e-01 1.84591264e-01\n",
      " 8.47564238e-01 6.04444439e-01 8.34003006e-01 4.22372286e-02\n",
      " 2.98407204e-01 1.05551189e-02 3.53483179e-01 6.64835159e-01\n",
      " 4.53631764e-01 8.79626111e-01 9.18309063e-01 4.23257095e-01\n",
      " 2.08016206e-04 1.49587892e-01 1.09135980e-01 8.52228274e-01\n",
      " 4.03246284e-02 2.24408775e-01 2.45705324e-01 7.18410525e-01\n",
      " 3.19773826e-01 1.92385164e-02 4.01236945e-01 5.35434732e-01\n",
      " 7.06390108e-01 6.95593736e-01 6.93597314e-01 8.65558642e-01\n",
      " 7.21954183e-01 8.14998301e-01 6.45952107e-01 4.72739642e-01]\n"
     ]
    },
    {
     "data": {
      "text/plain": [
       "52.343991913944336"
      ]
     },
     "execution_count": 7,
     "metadata": {},
     "output_type": "execute_result"
    }
   ],
   "source": [
    "L = np.random.random(100)\n",
    "print(L)\n",
    "sum(L)"
   ]
  },
  {
   "cell_type": "code",
   "execution_count": 4,
   "metadata": {},
   "outputs": [
    {
     "data": {
      "text/plain": [
       "51.008534028973685"
      ]
     },
     "execution_count": 4,
     "metadata": {},
     "output_type": "execute_result"
    }
   ],
   "source": [
    "np.sum(L)"
   ]
  },
  {
   "cell_type": "code",
   "execution_count": 5,
   "metadata": {},
   "outputs": [
    {
     "name": "stdout",
     "output_type": "stream",
     "text": [
      "198 ms ± 1 ms per loop (mean ± std. dev. of 7 runs, 10 loops each)\n",
      "1.08 ms ± 39.2 µs per loop (mean ± std. dev. of 7 runs, 1000 loops each)\n"
     ]
    }
   ],
   "source": [
    "big_array = np.random.rand(1000000)\n",
    "%timeit sum(big_array)\n",
    "%timeit np.sum(big_array)"
   ]
  },
  {
   "cell_type": "code",
   "execution_count": 8,
   "metadata": {},
   "outputs": [
    {
     "name": "stdout",
     "output_type": "stream",
     "text": [
      "8.11479624385214e-07 0.9999984628041819 500256.7265689038\n"
     ]
    }
   ],
   "source": [
    "print(big_array.min(), big_array.max(), big_array.sum())"
   ]
  },
  {
   "cell_type": "code",
   "execution_count": 9,
   "metadata": {},
   "outputs": [
    {
     "name": "stdout",
     "output_type": "stream",
     "text": [
      "[[0.38403299 0.19043445 0.30584895 0.2118048 ]\n",
      " [0.05779313 0.71088344 0.65100365 0.64061094]\n",
      " [0.34652023 0.59501324 0.12872257 0.85095465]]\n"
     ]
    }
   ],
   "source": [
    "M = np.random.random((3, 4))\n",
    "print(M)"
   ]
  },
  {
   "cell_type": "code",
   "execution_count": 10,
   "metadata": {},
   "outputs": [
    {
     "data": {
      "text/plain": [
       "5.073623041389203"
      ]
     },
     "execution_count": 10,
     "metadata": {},
     "output_type": "execute_result"
    }
   ],
   "source": [
    "M.sum()"
   ]
  },
  {
   "cell_type": "code",
   "execution_count": 11,
   "metadata": {},
   "outputs": [
    {
     "data": {
      "text/plain": [
       "array([0.05779313, 0.19043445, 0.12872257, 0.2118048 ])"
      ]
     },
     "execution_count": 11,
     "metadata": {},
     "output_type": "execute_result"
    }
   ],
   "source": [
    "M.min(axis=0)"
   ]
  },
  {
   "cell_type": "code",
   "execution_count": 12,
   "metadata": {},
   "outputs": [
    {
     "data": {
      "text/plain": [
       "array([0.38403299, 0.71088344, 0.85095465])"
      ]
     },
     "execution_count": 12,
     "metadata": {},
     "output_type": "execute_result"
    }
   ],
   "source": [
    "M.max(axis=1)\n"
   ]
  },
  {
   "cell_type": "code",
   "execution_count": 16,
   "metadata": {},
   "outputs": [
    {
     "name": "stdout",
     "output_type": "stream",
     "text": [
      "[189 170 189 163 183 171 185 168 173 183 173 173 175 178 183 193 178 173\n",
      " 174 183 183 168 170 178 182 180 183 178 182 188 175 179 183 193 182 183\n",
      " 177 185 188 188 182 185]\n"
     ]
    }
   ],
   "source": [
    "import pandas as pd\n",
    "data = pd.read_csv('./president_heights.csv')\n",
    "heights = np.array(data['height(cm)'])\n",
    "print(heights)"
   ]
  },
  {
   "cell_type": "code",
   "execution_count": 17,
   "metadata": {},
   "outputs": [
    {
     "name": "stdout",
     "output_type": "stream",
     "text": [
      "Mean height:        179.73809523809524\n",
      "Standard deviation: 6.931843442745892\n",
      "Minimum height:     163\n",
      "Maximum height:     193\n"
     ]
    }
   ],
   "source": [
    "print(\"Mean height:       \", heights.mean())\n",
    "print(\"Standard deviation:\", heights.std())\n",
    "print(\"Minimum height:    \", heights.min())\n",
    "print(\"Maximum height:    \", heights.max())"
   ]
  },
  {
   "cell_type": "code",
   "execution_count": 18,
   "metadata": {},
   "outputs": [
    {
     "name": "stdout",
     "output_type": "stream",
     "text": [
      "25th percentile:    174.25\n",
      "Median:             182.0\n",
      "75th percentile:    183.0\n"
     ]
    }
   ],
   "source": [
    "print(\"25th percentile:   \", np.percentile(heights, 25))\n",
    "print(\"Median:            \", np.median(heights))\n",
    "print(\"75th percentile:   \", np.percentile(heights, 75))"
   ]
  },
  {
   "cell_type": "code",
   "execution_count": 19,
   "metadata": {},
   "outputs": [],
   "source": [
    "%matplotlib inline\n",
    "import matplotlib.pyplot as plt\n",
    "import seaborn; seaborn.set()  # set plot style"
   ]
  },
  {
   "cell_type": "code",
   "execution_count": 20,
   "metadata": {},
   "outputs": [
    {
     "data": {
      "image/png": "[encoded data removed]",
      "text/plain": [
       "<Figure size 432x288 with 1 Axes>"
      ]
     },
     "metadata": {},
     "output_type": "display_data"
    }
   ],
   "source": [
    "plt.hist(heights)\n",
    "plt.title('Height Distribution of US Presidents')\n",
    "plt.xlabel('height (cm)')\n",
    "plt.ylabel('number');"
   ]
  },
  {
   "cell_type": "code",
   "execution_count": null,
   "metadata": {},
   "outputs": [],
   "source": []
  }
 ],
 "metadata": {
  "kernelspec": {
   "display_name": "Python 3",
   "language": "python",
   "name": "python3"
  },
  "language_info": {
   "codemirror_mode": {
    "name": "ipython",
    "version": 3
   },
   "file_extension": ".py",
   "mimetype": "text/x-python",
   "name": "python",
   "nbconvert_exporter": "python",
   "pygments_lexer": "ipython3",
   "version": "3.8.3"
  }
 },
 "nbformat": 4,
 "nbformat_minor": 4
}
